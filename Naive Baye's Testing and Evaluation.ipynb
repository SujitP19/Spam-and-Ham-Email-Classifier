{
 "cells": [
  {
   "cell_type": "code",
   "execution_count": 1,
   "id": "f0b3c1d0",
   "metadata": {},
   "outputs": [],
   "source": [
    "import pandas as pd\n",
    "import numpy as np\n",
    "import matplotlib.pyplot as plt\n",
    "import seaborn as sns\n"
   ]
  },
  {
   "cell_type": "code",
   "execution_count": 2,
   "id": "62b2149a",
   "metadata": {},
   "outputs": [],
   "source": [
    "TOKEN_SPAM_PROB_FILE = 'SpamData/03_Testing/prob-spam.txt'\n",
    "TOKEN_HAM_PROB_FILE = 'SpamData/03_Testing/prob-nonspam.txt'\n",
    "TOKEN_ALL_PROB_FILE = 'SpamData/03_Testing/prob-all-tokens.txt'\n",
    "TEST_FEATURE_MATRIX = 'SpamData/03_Testing/test-features.txt'\n",
    "TEST_TARGET_FILE = 'SpamData/03_Testing/test-target.txt'\n",
    "VOCAB_SIZE = 2500"
   ]
  },
  {
   "cell_type": "code",
   "execution_count": 3,
   "id": "a50b8e72",
   "metadata": {},
   "outputs": [],
   "source": [
    "PROB_SPAM = 0.3116"
   ]
  },
  {
   "cell_type": "code",
   "execution_count": 4,
   "id": "30fb001b",
   "metadata": {},
   "outputs": [],
   "source": [
    "prob_token_spam = np.loadtxt(TOKEN_SPAM_PROB_FILE, delimiter = ' ')\n",
    "prob_token_ham = np.loadtxt(TOKEN_HAM_PROB_FILE, delimiter = ' ')\n",
    "prob_all_tokens = np.loadtxt(TOKEN_ALL_PROB_FILE, delimiter = ' ')"
   ]
  },
  {
   "cell_type": "code",
   "execution_count": 5,
   "id": "4e726905",
   "metadata": {},
   "outputs": [],
   "source": [
    "X_test = np.loadtxt(TEST_FEATURE_MATRIX, delimiter = ' ')\n",
    "y_test = np.loadtxt(TEST_TARGET_FILE, delimiter = ' ')"
   ]
  },
  {
   "cell_type": "code",
   "execution_count": 6,
   "id": "ec568853",
   "metadata": {},
   "outputs": [
    {
     "data": {
      "text/plain": [
       "(1725, 2500)"
      ]
     },
     "execution_count": 6,
     "metadata": {},
     "output_type": "execute_result"
    }
   ],
   "source": [
    "X_test.shape"
   ]
  },
  {
   "cell_type": "code",
   "execution_count": 7,
   "id": "c325da26",
   "metadata": {},
   "outputs": [
    {
     "data": {
      "text/plain": [
       "(1725,)"
      ]
     },
     "execution_count": 7,
     "metadata": {},
     "output_type": "execute_result"
    }
   ],
   "source": [
    "y_test.shape"
   ]
  },
  {
   "cell_type": "code",
   "execution_count": 8,
   "id": "03e72219",
   "metadata": {},
   "outputs": [
    {
     "data": {
      "text/plain": [
       "(2500,)"
      ]
     },
     "execution_count": 8,
     "metadata": {},
     "output_type": "execute_result"
    }
   ],
   "source": [
    "prob_token_spam.shape"
   ]
  },
  {
   "cell_type": "code",
   "execution_count": 9,
   "id": "286329da",
   "metadata": {},
   "outputs": [
    {
     "data": {
      "text/plain": [
       "(2500,)"
      ]
     },
     "execution_count": 9,
     "metadata": {},
     "output_type": "execute_result"
    }
   ],
   "source": [
    "prob_token_ham.shape"
   ]
  },
  {
   "cell_type": "code",
   "execution_count": 10,
   "id": "a74d5740",
   "metadata": {},
   "outputs": [
    {
     "data": {
      "text/plain": [
       "array([0.01219348, 0.00522977, 0.00681828, 0.01130414, 0.00679591,\n",
       "       0.0061359 ])"
      ]
     },
     "execution_count": 10,
     "metadata": {},
     "output_type": "execute_result"
    }
   ],
   "source": [
    "prob_token_spam[:6]"
   ]
  },
  {
   "cell_type": "code",
   "execution_count": 11,
   "id": "83697c9f",
   "metadata": {},
   "outputs": [
    {
     "data": {
      "text/plain": [
       "array([0.02099826, 0.01016259, 0.00799468, 0.00365102, 0.00644114,\n",
       "       0.00650375])"
      ]
     },
     "execution_count": 11,
     "metadata": {},
     "output_type": "execute_result"
    }
   ],
   "source": [
    "prob_token_ham[:6]"
   ]
  },
  {
   "cell_type": "code",
   "execution_count": 12,
   "id": "54c4f04d",
   "metadata": {},
   "outputs": [
    {
     "data": {
      "text/plain": [
       "array([0.01757161, 0.00822213, 0.00759324, 0.00687585, 0.00665923,\n",
       "       0.00642165])"
      ]
     },
     "execution_count": 12,
     "metadata": {},
     "output_type": "execute_result"
    }
   ],
   "source": [
    "prob_all_tokens[:6]"
   ]
  },
  {
   "cell_type": "code",
   "execution_count": 13,
   "id": "a894fbee",
   "metadata": {},
   "outputs": [
    {
     "data": {
      "text/plain": [
       "(1725,)"
      ]
     },
     "execution_count": 13,
     "metadata": {},
     "output_type": "execute_result"
    }
   ],
   "source": [
    "X_test.dot(prob_token_spam).shape"
   ]
  },
  {
   "cell_type": "code",
   "execution_count": 14,
   "id": "226ed10f",
   "metadata": {},
   "outputs": [
    {
     "data": {
      "text/plain": [
       "array([-4.4068535 , -5.25338712, -4.98814752, -4.48258593, -4.9914343 ])"
      ]
     },
     "execution_count": 14,
     "metadata": {},
     "output_type": "execute_result"
    }
   ],
   "source": [
    "np.log(prob_token_spam[:5])"
   ]
  },
  {
   "cell_type": "code",
   "execution_count": 15,
   "id": "24e3e1ce",
   "metadata": {},
   "outputs": [
    {
     "data": {
      "text/plain": [
       "array([-3.86331577, -4.58904159, -4.8289792 , -5.6127486 , -5.04505042])"
      ]
     },
     "execution_count": 15,
     "metadata": {},
     "output_type": "execute_result"
    }
   ],
   "source": [
    "np.log(prob_token_ham[:5])"
   ]
  },
  {
   "cell_type": "code",
   "execution_count": 16,
   "id": "41e28431",
   "metadata": {},
   "outputs": [
    {
     "data": {
      "text/plain": [
       "array([-4.04147098, -4.80092565, -4.88049633, -4.97974062, -5.01175161])"
      ]
     },
     "execution_count": 16,
     "metadata": {},
     "output_type": "execute_result"
    }
   ],
   "source": [
    "np.log(prob_all_tokens[:5])"
   ]
  },
  {
   "cell_type": "code",
   "execution_count": 17,
   "id": "042b772c",
   "metadata": {},
   "outputs": [],
   "source": [
    "joint_log_spam = X_test.dot(np.log(prob_token_spam)-np.log(prob_all_tokens)) + np.log(PROB_SPAM)\n",
    "joint_log_ham = X_test.dot(np.log(prob_token_ham)-np.log(prob_all_tokens)) + np.log(1-PROB_SPAM)"
   ]
  },
  {
   "cell_type": "code",
   "execution_count": 18,
   "id": "68cfc131",
   "metadata": {},
   "outputs": [
    {
     "data": {
      "text/plain": [
       "(1725,)"
      ]
     },
     "execution_count": 18,
     "metadata": {},
     "output_type": "execute_result"
    }
   ],
   "source": [
    "joint_log_spam.shape"
   ]
  },
  {
   "cell_type": "code",
   "execution_count": 19,
   "id": "8d55c5fd",
   "metadata": {},
   "outputs": [
    {
     "data": {
      "text/plain": [
       "(1725,)"
      ]
     },
     "execution_count": 19,
     "metadata": {},
     "output_type": "execute_result"
    }
   ],
   "source": [
    "joint_log_ham.shape"
   ]
  },
  {
   "cell_type": "code",
   "execution_count": 20,
   "id": "c25c8a5c",
   "metadata": {},
   "outputs": [
    {
     "data": {
      "text/plain": [
       "array([23.22357826,  2.52767155, 20.84808352, 18.09750574, 21.54445265])"
      ]
     },
     "execution_count": 20,
     "metadata": {},
     "output_type": "execute_result"
    }
   ],
   "source": [
    "joint_log_spam[:5]"
   ]
  },
  {
   "cell_type": "code",
   "execution_count": 21,
   "id": "67ef3b51",
   "metadata": {},
   "outputs": [
    {
     "data": {
      "text/plain": [
       "array([-59.60222638, -11.40706497, -37.72913433, -58.02347333,\n",
       "       -52.66995964])"
      ]
     },
     "execution_count": 21,
     "metadata": {},
     "output_type": "execute_result"
    }
   ],
   "source": [
    "joint_log_ham[:5]"
   ]
  },
  {
   "cell_type": "code",
   "execution_count": 22,
   "id": "161bf04e",
   "metadata": {},
   "outputs": [],
   "source": [
    "prediction = joint_log_spam > joint_log_ham"
   ]
  },
  {
   "cell_type": "code",
   "execution_count": 23,
   "id": "8bd799ed",
   "metadata": {},
   "outputs": [
    {
     "data": {
      "text/plain": [
       "array([ True,  True,  True,  True,  True, False,  True,  True,  True,\n",
       "       False])"
      ]
     },
     "execution_count": 23,
     "metadata": {},
     "output_type": "execute_result"
    }
   ],
   "source": [
    "prediction[:10]"
   ]
  },
  {
   "cell_type": "code",
   "execution_count": 24,
   "id": "c814b912",
   "metadata": {},
   "outputs": [
    {
     "data": {
      "text/plain": [
       "array([1, 1, 1, 1, 1, 0, 1, 1, 1, 0])"
      ]
     },
     "execution_count": 24,
     "metadata": {},
     "output_type": "execute_result"
    }
   ],
   "source": [
    "prediction[:10]*1"
   ]
  },
  {
   "cell_type": "code",
   "execution_count": 25,
   "id": "474ad3d3",
   "metadata": {},
   "outputs": [
    {
     "data": {
      "text/plain": [
       "array([1., 1., 1., 1., 1., 1., 1., 1., 1., 1.])"
      ]
     },
     "execution_count": 25,
     "metadata": {},
     "output_type": "execute_result"
    }
   ],
   "source": [
    "y_test[:10]"
   ]
  },
  {
   "cell_type": "code",
   "execution_count": 26,
   "id": "795ebe45",
   "metadata": {},
   "outputs": [],
   "source": [
    "joint_log_spam = X_test.dot(np.log(prob_token_spam)) + np.log(PROB_SPAM)\n",
    "joint_log_ham = X_test.dot(np.log(prob_token_ham)) + np.log(1-PROB_SPAM)"
   ]
  },
  {
   "cell_type": "code",
   "execution_count": 27,
   "id": "9672cb59",
   "metadata": {},
   "outputs": [],
   "source": [
    "prediction = joint_log_spam > joint_log_ham"
   ]
  },
  {
   "cell_type": "code",
   "execution_count": 28,
   "id": "350cea93",
   "metadata": {},
   "outputs": [
    {
     "data": {
      "text/plain": [
       "array([ True,  True,  True,  True,  True, False,  True,  True,  True,\n",
       "       False])"
      ]
     },
     "execution_count": 28,
     "metadata": {},
     "output_type": "execute_result"
    }
   ],
   "source": [
    "prediction[:10]"
   ]
  },
  {
   "cell_type": "code",
   "execution_count": 29,
   "id": "6e65fdbb",
   "metadata": {},
   "outputs": [
    {
     "data": {
      "text/plain": [
       "array([1, 1, 1, 1, 1, 0, 1, 1, 1, 0])"
      ]
     },
     "execution_count": 29,
     "metadata": {},
     "output_type": "execute_result"
    }
   ],
   "source": [
    "prediction[:10]*1"
   ]
  },
  {
   "cell_type": "markdown",
   "id": "b41f98e9",
   "metadata": {},
   "source": [
    "## True Positive and True Negative"
   ]
  },
  {
   "cell_type": "code",
   "execution_count": 30,
   "id": "260cb928",
   "metadata": {},
   "outputs": [
    {
     "data": {
      "text/plain": [
       "1683"
      ]
     },
     "execution_count": 30,
     "metadata": {},
     "output_type": "execute_result"
    }
   ],
   "source": [
    "correct_docs = (y_test == prediction).sum()\n",
    "correct_docs"
   ]
  },
  {
   "cell_type": "code",
   "execution_count": 31,
   "id": "8516533d",
   "metadata": {},
   "outputs": [
    {
     "data": {
      "text/plain": [
       "42"
      ]
     },
     "execution_count": 31,
     "metadata": {},
     "output_type": "execute_result"
    }
   ],
   "source": [
    "numdocs_wrong = (y_test !=prediction).sum()\n",
    "numdocs_wrong"
   ]
  },
  {
   "cell_type": "code",
   "execution_count": 32,
   "id": "f31b2916",
   "metadata": {},
   "outputs": [
    {
     "data": {
      "text/plain": [
       "0.98"
      ]
     },
     "execution_count": 32,
     "metadata": {},
     "output_type": "execute_result"
    }
   ],
   "source": [
    "round(correct_docs/len(X_test),2)"
   ]
  },
  {
   "cell_type": "markdown",
   "id": "fbb496c5",
   "metadata": {},
   "source": [
    "## Plottings"
   ]
  },
  {
   "cell_type": "code",
   "execution_count": 33,
   "id": "6b05f295",
   "metadata": {},
   "outputs": [],
   "source": [
    "yaxis_label = 'P(X|Spam)'\n",
    "xaxis_label = 'P(X|Nonspam)'\n",
    "labels = 'Actual Category'"
   ]
  },
  {
   "cell_type": "code",
   "execution_count": 35,
   "id": "b4a34547",
   "metadata": {},
   "outputs": [
    {
     "data": {
      "image/png": "[encoded data removed]",
      "text/plain": [
       "<Figure size 640x480 with 1 Axes>"
      ]
     },
     "metadata": {},
     "output_type": "display_data"
    }
   ],
   "source": [
    "#plt.figure(figsize=(11, 7))\n",
    "plt.xlabel(xaxis_label, fontsize=20)\n",
    "plt.ylabel(yaxis_label, fontsize=20)\n",
    "plt.scatter(joint_log_ham, joint_log_spam, color='brown')\n",
    "plt.show()"
   ]
  },
  {
   "cell_type": "code",
   "execution_count": 36,
   "id": "a73822be",
   "metadata": {},
   "outputs": [],
   "source": [
    "linedata = np.linspace(-2000, 25, 1000)"
   ]
  },
  {
   "cell_type": "code",
   "execution_count": 38,
   "id": "7818b4de",
   "metadata": {},
   "outputs": [
    {
     "data": {
      "image/png": "[encoded data removed]",
      "text/plain": [
       "<Figure size 640x480 with 1 Axes>"
      ]
     },
     "metadata": {},
     "output_type": "display_data"
    }
   ],
   "source": [
    "plt.xlim([-2000, 25])\n",
    "plt.ylim([-2000, 25])\n",
    "plt.xlabel(xaxis_label, fontsize=20)\n",
    "plt.ylabel(yaxis_label, fontsize=20)\n",
    "plt.plot(linedata, linedata, color ='red')\n",
    "plt.scatter(joint_log_ham, joint_log_spam, color='navy', alpha = 0.2, s = 25)\n",
    "plt.show()"
   ]
  },
  {
   "cell_type": "code",
   "execution_count": 39,
   "id": "65bfe82a",
   "metadata": {},
   "outputs": [],
   "source": [
    "sns.set_style('whitegrid')"
   ]
  },
  {
   "cell_type": "code",
   "execution_count": 43,
   "id": "e2dc55ca",
   "metadata": {},
   "outputs": [],
   "source": [
    "summery_df = pd.DataFrame({yaxis_label : joint_log_spam, xaxis_label : joint_log_ham, labels : y_test})"
   ]
  },
  {
   "cell_type": "code",
   "execution_count": 44,
   "id": "6c154ace",
   "metadata": {},
   "outputs": [
    {
     "data": {
      "text/html": [
       "<div>\n",
       "<style scoped>\n",
       "    .dataframe tbody tr th:only-of-type {\n",
       "        vertical-align: middle;\n",
       "    }\n",
       "\n",
       "    .dataframe tbody tr th {\n",
       "        vertical-align: top;\n",
       "    }\n",
       "\n",
       "    .dataframe thead th {\n",
       "        text-align: right;\n",
       "    }\n",
       "</style>\n",
       "<table border=\"1\" class=\"dataframe\">\n",
       "  <thead>\n",
       "    <tr style=\"text-align: right;\">\n",
       "      <th></th>\n",
       "      <th>P(X|Spam)</th>\n",
       "      <th>P(X|Nonspam)</th>\n",
       "      <th>Actual Category</th>\n",
       "    </tr>\n",
       "  </thead>\n",
       "  <tbody>\n",
       "    <tr>\n",
       "      <th>0</th>\n",
       "      <td>-1220.381722</td>\n",
       "      <td>-1303.207527</td>\n",
       "      <td>1.0</td>\n",
       "    </tr>\n",
       "    <tr>\n",
       "      <th>1</th>\n",
       "      <td>-262.930240</td>\n",
       "      <td>-276.864977</td>\n",
       "      <td>1.0</td>\n",
       "    </tr>\n",
       "    <tr>\n",
       "      <th>2</th>\n",
       "      <td>-411.472500</td>\n",
       "      <td>-470.049718</td>\n",
       "      <td>1.0</td>\n",
       "    </tr>\n",
       "    <tr>\n",
       "      <th>3</th>\n",
       "      <td>-1472.995640</td>\n",
       "      <td>-1549.116619</td>\n",
       "      <td>1.0</td>\n",
       "    </tr>\n",
       "    <tr>\n",
       "      <th>4</th>\n",
       "      <td>-1239.772212</td>\n",
       "      <td>-1313.986625</td>\n",
       "      <td>1.0</td>\n",
       "    </tr>\n",
       "    <tr>\n",
       "      <th>...</th>\n",
       "      <td>...</td>\n",
       "      <td>...</td>\n",
       "      <td>...</td>\n",
       "    </tr>\n",
       "    <tr>\n",
       "      <th>1720</th>\n",
       "      <td>-431.900919</td>\n",
       "      <td>-400.467769</td>\n",
       "      <td>0.0</td>\n",
       "    </tr>\n",
       "    <tr>\n",
       "      <th>1721</th>\n",
       "      <td>-1998.848613</td>\n",
       "      <td>-2104.128585</td>\n",
       "      <td>0.0</td>\n",
       "    </tr>\n",
       "    <tr>\n",
       "      <th>1722</th>\n",
       "      <td>-875.971110</td>\n",
       "      <td>-787.160598</td>\n",
       "      <td>0.0</td>\n",
       "    </tr>\n",
       "    <tr>\n",
       "      <th>1723</th>\n",
       "      <td>-4803.476166</td>\n",
       "      <td>-4396.617777</td>\n",
       "      <td>0.0</td>\n",
       "    </tr>\n",
       "    <tr>\n",
       "      <th>1724</th>\n",
       "      <td>-544.820648</td>\n",
       "      <td>-495.442937</td>\n",
       "      <td>0.0</td>\n",
       "    </tr>\n",
       "  </tbody>\n",
       "</table>\n",
       "<p>1725 rows × 3 columns</p>\n",
       "</div>"
      ],
      "text/plain": [
       "        P(X|Spam)  P(X|Nonspam)  Actual Category\n",
       "0    -1220.381722  -1303.207527              1.0\n",
       "1     -262.930240   -276.864977              1.0\n",
       "2     -411.472500   -470.049718              1.0\n",
       "3    -1472.995640  -1549.116619              1.0\n",
       "4    -1239.772212  -1313.986625              1.0\n",
       "...           ...           ...              ...\n",
       "1720  -431.900919   -400.467769              0.0\n",
       "1721 -1998.848613  -2104.128585              0.0\n",
       "1722  -875.971110   -787.160598              0.0\n",
       "1723 -4803.476166  -4396.617777              0.0\n",
       "1724  -544.820648   -495.442937              0.0\n",
       "\n",
       "[1725 rows x 3 columns]"
      ]
     },
     "execution_count": 44,
     "metadata": {},
     "output_type": "execute_result"
    }
   ],
   "source": [
    "summery_df"
   ]
  },
  {
   "cell_type": "code",
   "execution_count": 52,
   "id": "884394c4",
   "metadata": {},
   "outputs": [
    {
     "data": {
      "image/png": "[encoded data removed]",
      "text/plain": [
       "<Figure size 500x500 with 1 Axes>"
      ]
     },
     "metadata": {},
     "output_type": "display_data"
    }
   ],
   "source": [
    "sns.lmplot(x=xaxis_label, y = yaxis_label, data = summery_df, fit_reg = False, hue = labels, height = 5, markers = ['o', 'x'], \n",
    "          legend = False, scatter_kws = {'alpha' : 0.7, 's' : 40})\n",
    "plt.xlabel(xaxis_label)\n",
    "plt.ylabel(yaxis_label)\n",
    "plt.xlim(-100, 0)\n",
    "plt.ylim(-100, 0)\n",
    "plt.plot(linedata, linedata, c = 'green')\n",
    "plt.legend(('Decison Boundary', 'Nonspam', 'Spam'), loc = 'lower right', fontsize = 10)\n",
    "plt.show()"
   ]
  },
  {
   "cell_type": "code",
   "execution_count": 53,
   "id": "a2c9db6b",
   "metadata": {},
   "outputs": [
    {
     "data": {
      "text/plain": [
       "(1725,)"
      ]
     },
     "execution_count": 53,
     "metadata": {},
     "output_type": "execute_result"
    }
   ],
   "source": [
    "prediction.shape"
   ]
  },
  {
   "cell_type": "code",
   "execution_count": 54,
   "id": "b57362af",
   "metadata": {},
   "outputs": [
    {
     "data": {
      "text/plain": [
       "(array([False,  True]), array([1159,  566], dtype=int64))"
      ]
     },
     "execution_count": 54,
     "metadata": {},
     "output_type": "execute_result"
    }
   ],
   "source": [
    "np.unique(prediction, return_counts = True)"
   ]
  },
  {
   "cell_type": "code",
   "execution_count": 57,
   "id": "f4c6bef8",
   "metadata": {},
   "outputs": [],
   "source": [
    "true_pos = ((y_test ==1) & (prediction ==1))"
   ]
  },
  {
   "cell_type": "code",
   "execution_count": 59,
   "id": "ff26b565",
   "metadata": {},
   "outputs": [
    {
     "data": {
      "text/plain": [
       "557"
      ]
     },
     "execution_count": 59,
     "metadata": {},
     "output_type": "execute_result"
    }
   ],
   "source": [
    "true_pos.sum()"
   ]
  },
  {
   "cell_type": "code",
   "execution_count": 60,
   "id": "0a09c0f3",
   "metadata": {},
   "outputs": [
    {
     "data": {
      "text/plain": [
       "1126"
      ]
     },
     "execution_count": 60,
     "metadata": {},
     "output_type": "execute_result"
    }
   ],
   "source": [
    "true_neg = ((y_test ==0) & (prediction ==0))\n",
    "true_neg.sum()"
   ]
  },
  {
   "cell_type": "code",
   "execution_count": 61,
   "id": "821818a8",
   "metadata": {},
   "outputs": [
    {
     "data": {
      "text/plain": [
       "9"
      ]
     },
     "execution_count": 61,
     "metadata": {},
     "output_type": "execute_result"
    }
   ],
   "source": [
    "False_pos =  ((y_test ==0) & (prediction ==1))\n",
    "False_pos.sum()"
   ]
  },
  {
   "cell_type": "code",
   "execution_count": 62,
   "id": "f2772ea7",
   "metadata": {},
   "outputs": [
    {
     "data": {
      "text/plain": [
       "33"
      ]
     },
     "execution_count": 62,
     "metadata": {},
     "output_type": "execute_result"
    }
   ],
   "source": [
    "False_neg =  ((y_test ==1) & (prediction ==0))\n",
    "False_neg.sum()"
   ]
  },
  {
   "cell_type": "code",
   "execution_count": 63,
   "id": "f77adbd4",
   "metadata": {},
   "outputs": [
    {
     "data": {
      "text/plain": [
       "94.40677966101696"
      ]
     },
     "execution_count": 63,
     "metadata": {},
     "output_type": "execute_result"
    }
   ],
   "source": [
    "recall_score = true_pos.sum()/(true_pos.sum()+False_neg.sum())\n",
    "recall_score*100"
   ]
  },
  {
   "cell_type": "code",
   "execution_count": 65,
   "id": "881d5b39",
   "metadata": {},
   "outputs": [
    {
     "data": {
      "text/plain": [
       "98.40989399293287"
      ]
     },
     "execution_count": 65,
     "metadata": {},
     "output_type": "execute_result"
    }
   ],
   "source": [
    "precision_score = true_pos.sum()/(true_pos.sum()+False_pos.sum())\n",
    "precision_score*100"
   ]
  },
  {
   "cell_type": "code",
   "execution_count": 66,
   "id": "c90f9031",
   "metadata": {},
   "outputs": [],
   "source": [
    "f1_score = (precision_score*recall_score)/(precision_score+recall_score)*2"
   ]
  },
  {
   "cell_type": "code",
   "execution_count": 68,
   "id": "f30ad34f",
   "metadata": {},
   "outputs": [
    {
     "data": {
      "text/plain": [
       "96.36678200692042"
      ]
     },
     "execution_count": 68,
     "metadata": {},
     "output_type": "execute_result"
    }
   ],
   "source": [
    "f1_score*100"
   ]
  },
  {
   "cell_type": "code",
   "execution_count": null,
   "id": "00ee2c5f",
   "metadata": {},
   "outputs": [],
   "source": []
  }
 ],
 "metadata": {
  "kernelspec": {
   "display_name": "Python 3 (ipykernel)",
   "language": "python",
   "name": "python3"
  },
  "language_info": {
   "codemirror_mode": {
    "name": "ipython",
    "version": 3
   },
   "file_extension": ".py",
   "mimetype": "text/x-python",
   "name": "python",
   "nbconvert_exporter": "python",
   "pygments_lexer": "ipython3",
   "version": "3.9.13"
  }
 },
 "nbformat": 4,
 "nbformat_minor": 5
}
